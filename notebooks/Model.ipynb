{
 "cells": [
  {
   "cell_type": "markdown",
   "id": "6bd3e718",
   "metadata": {},
   "source": [
    "### Import the Requirements"
   ]
  },
  {
   "cell_type": "code",
   "execution_count": null,
   "id": "06d6a613",
   "metadata": {},
   "outputs": [],
   "source": [
    "import pandas as pd\n",
    "import numpy as np\n",
    "from sklearn.model_selection import train_test_split, cross_val_score, StratifiedKFold\n",
    "from sklearn.pipeline import Pipeline\n",
    "from sklearn.base import BaseEstimator, TransformerMixin\n",
    "from sklearn.ensemble import RandomForestClassifier\n",
    "from sklearn.preprocessing import StandardScaler\n",
    "from sklearn.metrics import (accuracy_score,\n",
    "                             precision_score,\n",
    "                             recall_score,\n",
    "                             f1_score,\n",
    "                             roc_curve, roc_auc_score)\n",
    "import joblib\n",
    "import dill as pickle"
   ]
  },
  {
   "cell_type": "markdown",
   "id": "13b34b4f",
   "metadata": {},
   "source": [
    "### Exploring Dataset"
   ]
  },
  {
   "cell_type": "markdown",
   "id": "8048d1e6",
   "metadata": {},
   "source": [
    "- This dataset is the PIMA Indian Diabetes Dataset. The objective is Diabetes prediction based on diagnostic measurements."
   ]
  },
  {
   "cell_type": "code",
   "execution_count": null,
   "id": "a1d1f9b5",
   "metadata": {},
   "outputs": [],
   "source": [
    "df = pd.read_csv(\"../datasets/diabetes.csv\")\n",
    "df.head()"
   ]
  }
 ],
 "metadata": {
  "kernelspec": {
   "display_name": "Python (venv)",
   "language": "python",
   "name": "venv"
  },
  "language_info": {
   "codemirror_mode": {
    "name": "ipython",
    "version": 3
   },
   "file_extension": ".py",
   "mimetype": "text/x-python",
   "name": "python",
   "nbconvert_exporter": "python",
   "pygments_lexer": "ipython3",
   "version": "3.11.1"
  }
 },
 "nbformat": 4,
 "nbformat_minor": 5
}
